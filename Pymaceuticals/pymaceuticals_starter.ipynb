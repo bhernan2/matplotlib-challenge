{
 "cells": [
  {
   "cell_type": "markdown",
   "metadata": {},
   "source": [
    "## Observations and Insights"
   ]
  },
  {
   "cell_type": "code",
   "execution_count": null,
   "metadata": {},
   "outputs": [],
   "source": [
    "#The number of treatments across drug regimes were mostly balanced. \n",
    "#There were nearly an equal female to male mouse ratio throughout the study. \n",
    "#Capomulin and Ramicane were the most effective drugs in preventing tumor growth.\n",
    "#Capomulin effectively reduced tumor volume as time passed-avg tumor volume reduced from ~40 mm3 to ~20 mm3\n",
    "#Heavier mice had larger tumors (correlation coefficient = 0.95) "
   ]
  },
  {
   "cell_type": "markdown",
   "metadata": {},
   "source": []
  },
  {
   "cell_type": "markdown",
   "metadata": {},
   "source": [
    "## Dependencies and starter code"
   ]
  },
  {
   "cell_type": "code",
   "execution_count": 65,
   "metadata": {},
   "outputs": [],
   "source": [
    "# Dependencies and Setup\n",
    "import matplotlib.pyplot as plt\n",
    "import pandas as pd\n",
    "from scipy.stats import linregress\n",
    "import numpy as np\n",
    "from sklearn import datasets\n",
    "import seaborn as sns\n",
    "\n",
    "# Study data files\n",
    "mouse_metadata = \"data/Mouse_metadata.csv\"\n",
    "study_results = \"data/Study_results.csv\"\n",
    "\n",
    "# Read the mouse data and the study results\n",
    "mouse_metadata = pd.read_csv(mouse_metadata)\n",
    "study_results = pd.read_csv(study_results)\n",
    "\n"
   ]
  },
  {
   "cell_type": "markdown",
   "metadata": {},
   "source": [
    "## Summary statistics"
   ]
  },
  {
   "cell_type": "code",
   "execution_count": 2,
   "metadata": {},
   "outputs": [
    {
     "data": {
      "text/html": [
       "<div>\n",
       "<style scoped>\n",
       "    .dataframe tbody tr th:only-of-type {\n",
       "        vertical-align: middle;\n",
       "    }\n",
       "\n",
       "    .dataframe tbody tr th {\n",
       "        vertical-align: top;\n",
       "    }\n",
       "\n",
       "    .dataframe thead th {\n",
       "        text-align: right;\n",
       "    }\n",
       "</style>\n",
       "<table border=\"1\" class=\"dataframe\">\n",
       "  <thead>\n",
       "    <tr style=\"text-align: right;\">\n",
       "      <th></th>\n",
       "      <th>Mouse ID</th>\n",
       "      <th>Drug Regimen</th>\n",
       "      <th>Sex</th>\n",
       "      <th>Age_months</th>\n",
       "      <th>Weight (g)</th>\n",
       "    </tr>\n",
       "  </thead>\n",
       "  <tbody>\n",
       "    <tr>\n",
       "      <th>0</th>\n",
       "      <td>k403</td>\n",
       "      <td>Ramicane</td>\n",
       "      <td>Male</td>\n",
       "      <td>21</td>\n",
       "      <td>16</td>\n",
       "    </tr>\n",
       "    <tr>\n",
       "      <th>1</th>\n",
       "      <td>s185</td>\n",
       "      <td>Capomulin</td>\n",
       "      <td>Female</td>\n",
       "      <td>3</td>\n",
       "      <td>17</td>\n",
       "    </tr>\n",
       "    <tr>\n",
       "      <th>2</th>\n",
       "      <td>x401</td>\n",
       "      <td>Capomulin</td>\n",
       "      <td>Female</td>\n",
       "      <td>16</td>\n",
       "      <td>15</td>\n",
       "    </tr>\n",
       "    <tr>\n",
       "      <th>3</th>\n",
       "      <td>m601</td>\n",
       "      <td>Capomulin</td>\n",
       "      <td>Male</td>\n",
       "      <td>22</td>\n",
       "      <td>17</td>\n",
       "    </tr>\n",
       "    <tr>\n",
       "      <th>4</th>\n",
       "      <td>g791</td>\n",
       "      <td>Ramicane</td>\n",
       "      <td>Male</td>\n",
       "      <td>11</td>\n",
       "      <td>16</td>\n",
       "    </tr>\n",
       "  </tbody>\n",
       "</table>\n",
       "</div>"
      ],
      "text/plain": [
       "  Mouse ID Drug Regimen     Sex  Age_months  Weight (g)\n",
       "0     k403     Ramicane    Male          21          16\n",
       "1     s185    Capomulin  Female           3          17\n",
       "2     x401    Capomulin  Female          16          15\n",
       "3     m601    Capomulin    Male          22          17\n",
       "4     g791     Ramicane    Male          11          16"
      ]
     },
     "execution_count": 2,
     "metadata": {},
     "output_type": "execute_result"
    }
   ],
   "source": [
    "# Generate a summary statistics table of mean, median, variance, standard deviation, and SEM of the tumor volume for each regimen\n",
    "mouse_metadata.head()"
   ]
  },
  {
   "cell_type": "code",
   "execution_count": 3,
   "metadata": {},
   "outputs": [
    {
     "data": {
      "text/html": [
       "<div>\n",
       "<style scoped>\n",
       "    .dataframe tbody tr th:only-of-type {\n",
       "        vertical-align: middle;\n",
       "    }\n",
       "\n",
       "    .dataframe tbody tr th {\n",
       "        vertical-align: top;\n",
       "    }\n",
       "\n",
       "    .dataframe thead th {\n",
       "        text-align: right;\n",
       "    }\n",
       "</style>\n",
       "<table border=\"1\" class=\"dataframe\">\n",
       "  <thead>\n",
       "    <tr style=\"text-align: right;\">\n",
       "      <th></th>\n",
       "      <th>Mouse ID</th>\n",
       "      <th>Timepoint</th>\n",
       "      <th>Tumor Volume (mm3)</th>\n",
       "      <th>Metastatic Sites</th>\n",
       "    </tr>\n",
       "  </thead>\n",
       "  <tbody>\n",
       "    <tr>\n",
       "      <th>0</th>\n",
       "      <td>b128</td>\n",
       "      <td>0</td>\n",
       "      <td>45.0</td>\n",
       "      <td>0</td>\n",
       "    </tr>\n",
       "    <tr>\n",
       "      <th>1</th>\n",
       "      <td>f932</td>\n",
       "      <td>0</td>\n",
       "      <td>45.0</td>\n",
       "      <td>0</td>\n",
       "    </tr>\n",
       "    <tr>\n",
       "      <th>2</th>\n",
       "      <td>g107</td>\n",
       "      <td>0</td>\n",
       "      <td>45.0</td>\n",
       "      <td>0</td>\n",
       "    </tr>\n",
       "    <tr>\n",
       "      <th>3</th>\n",
       "      <td>a457</td>\n",
       "      <td>0</td>\n",
       "      <td>45.0</td>\n",
       "      <td>0</td>\n",
       "    </tr>\n",
       "    <tr>\n",
       "      <th>4</th>\n",
       "      <td>c819</td>\n",
       "      <td>0</td>\n",
       "      <td>45.0</td>\n",
       "      <td>0</td>\n",
       "    </tr>\n",
       "  </tbody>\n",
       "</table>\n",
       "</div>"
      ],
      "text/plain": [
       "  Mouse ID  Timepoint  Tumor Volume (mm3)  Metastatic Sites\n",
       "0     b128          0                45.0                 0\n",
       "1     f932          0                45.0                 0\n",
       "2     g107          0                45.0                 0\n",
       "3     a457          0                45.0                 0\n",
       "4     c819          0                45.0                 0"
      ]
     },
     "execution_count": 3,
     "metadata": {},
     "output_type": "execute_result"
    }
   ],
   "source": [
    "study_results.head()"
   ]
  },
  {
   "cell_type": "code",
   "execution_count": 4,
   "metadata": {},
   "outputs": [
    {
     "data": {
      "text/html": [
       "<div>\n",
       "<style scoped>\n",
       "    .dataframe tbody tr th:only-of-type {\n",
       "        vertical-align: middle;\n",
       "    }\n",
       "\n",
       "    .dataframe tbody tr th {\n",
       "        vertical-align: top;\n",
       "    }\n",
       "\n",
       "    .dataframe thead th {\n",
       "        text-align: right;\n",
       "    }\n",
       "</style>\n",
       "<table border=\"1\" class=\"dataframe\">\n",
       "  <thead>\n",
       "    <tr style=\"text-align: right;\">\n",
       "      <th></th>\n",
       "      <th>Mouse ID</th>\n",
       "      <th>Drug Regimen</th>\n",
       "      <th>Sex</th>\n",
       "      <th>Age_months</th>\n",
       "      <th>Weight (g)</th>\n",
       "      <th>Timepoint</th>\n",
       "      <th>Tumor Volume (mm3)</th>\n",
       "      <th>Metastatic Sites</th>\n",
       "    </tr>\n",
       "  </thead>\n",
       "  <tbody>\n",
       "    <tr>\n",
       "      <th>0</th>\n",
       "      <td>k403</td>\n",
       "      <td>Ramicane</td>\n",
       "      <td>Male</td>\n",
       "      <td>21</td>\n",
       "      <td>16</td>\n",
       "      <td>0</td>\n",
       "      <td>45.000000</td>\n",
       "      <td>0</td>\n",
       "    </tr>\n",
       "    <tr>\n",
       "      <th>1</th>\n",
       "      <td>k403</td>\n",
       "      <td>Ramicane</td>\n",
       "      <td>Male</td>\n",
       "      <td>21</td>\n",
       "      <td>16</td>\n",
       "      <td>5</td>\n",
       "      <td>38.825898</td>\n",
       "      <td>0</td>\n",
       "    </tr>\n",
       "    <tr>\n",
       "      <th>2</th>\n",
       "      <td>k403</td>\n",
       "      <td>Ramicane</td>\n",
       "      <td>Male</td>\n",
       "      <td>21</td>\n",
       "      <td>16</td>\n",
       "      <td>10</td>\n",
       "      <td>35.014271</td>\n",
       "      <td>1</td>\n",
       "    </tr>\n",
       "    <tr>\n",
       "      <th>3</th>\n",
       "      <td>k403</td>\n",
       "      <td>Ramicane</td>\n",
       "      <td>Male</td>\n",
       "      <td>21</td>\n",
       "      <td>16</td>\n",
       "      <td>15</td>\n",
       "      <td>34.223992</td>\n",
       "      <td>1</td>\n",
       "    </tr>\n",
       "    <tr>\n",
       "      <th>4</th>\n",
       "      <td>k403</td>\n",
       "      <td>Ramicane</td>\n",
       "      <td>Male</td>\n",
       "      <td>21</td>\n",
       "      <td>16</td>\n",
       "      <td>20</td>\n",
       "      <td>32.997729</td>\n",
       "      <td>1</td>\n",
       "    </tr>\n",
       "  </tbody>\n",
       "</table>\n",
       "</div>"
      ],
      "text/plain": [
       "  Mouse ID Drug Regimen   Sex  Age_months  Weight (g)  Timepoint  \\\n",
       "0     k403     Ramicane  Male          21          16          0   \n",
       "1     k403     Ramicane  Male          21          16          5   \n",
       "2     k403     Ramicane  Male          21          16         10   \n",
       "3     k403     Ramicane  Male          21          16         15   \n",
       "4     k403     Ramicane  Male          21          16         20   \n",
       "\n",
       "   Tumor Volume (mm3)  Metastatic Sites  \n",
       "0           45.000000                 0  \n",
       "1           38.825898                 0  \n",
       "2           35.014271                 1  \n",
       "3           34.223992                 1  \n",
       "4           32.997729                 1  "
      ]
     },
     "execution_count": 4,
     "metadata": {},
     "output_type": "execute_result"
    }
   ],
   "source": [
    "#merge data frames to merged_mouse_study on an Mouse ID, outer join\n",
    "merged_mouse_study = pd.merge(mouse_metadata, study_results, on=\"Mouse ID\", how=\"outer\")\n",
    "merged_mouse_study.head()"
   ]
  },
  {
   "cell_type": "code",
   "execution_count": 5,
   "metadata": {
    "scrolled": true
   },
   "outputs": [
    {
     "data": {
      "text/html": [
       "<div>\n",
       "<style scoped>\n",
       "    .dataframe tbody tr th:only-of-type {\n",
       "        vertical-align: middle;\n",
       "    }\n",
       "\n",
       "    .dataframe tbody tr th {\n",
       "        vertical-align: top;\n",
       "    }\n",
       "\n",
       "    .dataframe thead th {\n",
       "        text-align: right;\n",
       "    }\n",
       "</style>\n",
       "<table border=\"1\" class=\"dataframe\">\n",
       "  <thead>\n",
       "    <tr style=\"text-align: right;\">\n",
       "      <th></th>\n",
       "      <th>Mouse ID</th>\n",
       "      <th>Drug Regimen</th>\n",
       "      <th>Sex</th>\n",
       "      <th>Age_months</th>\n",
       "      <th>Weight (g)</th>\n",
       "      <th>Timepoint</th>\n",
       "      <th>Tumor Volume (mm3)</th>\n",
       "      <th>Metastatic Sites</th>\n",
       "    </tr>\n",
       "  </thead>\n",
       "  <tbody>\n",
       "    <tr>\n",
       "      <th>9</th>\n",
       "      <td>k403</td>\n",
       "      <td>Ramicane</td>\n",
       "      <td>Male</td>\n",
       "      <td>21</td>\n",
       "      <td>16</td>\n",
       "      <td>45</td>\n",
       "      <td>22.050126</td>\n",
       "      <td>1</td>\n",
       "    </tr>\n",
       "    <tr>\n",
       "      <th>19</th>\n",
       "      <td>s185</td>\n",
       "      <td>Capomulin</td>\n",
       "      <td>Female</td>\n",
       "      <td>3</td>\n",
       "      <td>17</td>\n",
       "      <td>45</td>\n",
       "      <td>23.343598</td>\n",
       "      <td>1</td>\n",
       "    </tr>\n",
       "    <tr>\n",
       "      <th>8</th>\n",
       "      <td>k403</td>\n",
       "      <td>Ramicane</td>\n",
       "      <td>Male</td>\n",
       "      <td>21</td>\n",
       "      <td>16</td>\n",
       "      <td>40</td>\n",
       "      <td>24.365505</td>\n",
       "      <td>1</td>\n",
       "    </tr>\n",
       "    <tr>\n",
       "      <th>18</th>\n",
       "      <td>s185</td>\n",
       "      <td>Capomulin</td>\n",
       "      <td>Female</td>\n",
       "      <td>3</td>\n",
       "      <td>17</td>\n",
       "      <td>40</td>\n",
       "      <td>25.472143</td>\n",
       "      <td>1</td>\n",
       "    </tr>\n",
       "    <tr>\n",
       "      <th>7</th>\n",
       "      <td>k403</td>\n",
       "      <td>Ramicane</td>\n",
       "      <td>Male</td>\n",
       "      <td>21</td>\n",
       "      <td>16</td>\n",
       "      <td>35</td>\n",
       "      <td>26.546993</td>\n",
       "      <td>1</td>\n",
       "    </tr>\n",
       "  </tbody>\n",
       "</table>\n",
       "</div>"
      ],
      "text/plain": [
       "   Mouse ID Drug Regimen     Sex  Age_months  Weight (g)  Timepoint  \\\n",
       "9      k403     Ramicane    Male          21          16         45   \n",
       "19     s185    Capomulin  Female           3          17         45   \n",
       "8      k403     Ramicane    Male          21          16         40   \n",
       "18     s185    Capomulin  Female           3          17         40   \n",
       "7      k403     Ramicane    Male          21          16         35   \n",
       "\n",
       "    Tumor Volume (mm3)  Metastatic Sites  \n",
       "9            22.050126                 1  \n",
       "19           23.343598                 1  \n",
       "8            24.365505                 1  \n",
       "18           25.472143                 1  \n",
       "7            26.546993                 1  "
      ]
     },
     "execution_count": 5,
     "metadata": {},
     "output_type": "execute_result"
    }
   ],
   "source": [
    "#sort merged_mouse_study on Tumor Volume (mm3)\n",
    "merged_mouse_study = merged_mouse_study.sort_values([\"Tumor Volume (mm3)\"], ascending = True)\n",
    "merged_mouse_study.head()"
   ]
  },
  {
   "cell_type": "code",
   "execution_count": 6,
   "metadata": {
    "scrolled": true
   },
   "outputs": [
    {
     "data": {
      "text/html": [
       "<div>\n",
       "<style scoped>\n",
       "    .dataframe tbody tr th:only-of-type {\n",
       "        vertical-align: middle;\n",
       "    }\n",
       "\n",
       "    .dataframe tbody tr th {\n",
       "        vertical-align: top;\n",
       "    }\n",
       "\n",
       "    .dataframe thead th {\n",
       "        text-align: right;\n",
       "    }\n",
       "</style>\n",
       "<table border=\"1\" class=\"dataframe\">\n",
       "  <thead>\n",
       "    <tr style=\"text-align: right;\">\n",
       "      <th></th>\n",
       "      <th>Mean</th>\n",
       "      <th>Median</th>\n",
       "      <th>Variance</th>\n",
       "      <th>Standard Deviation</th>\n",
       "      <th>Standard Error</th>\n",
       "    </tr>\n",
       "    <tr>\n",
       "      <th>Drug Regimen</th>\n",
       "      <th></th>\n",
       "      <th></th>\n",
       "      <th></th>\n",
       "      <th></th>\n",
       "      <th></th>\n",
       "    </tr>\n",
       "  </thead>\n",
       "  <tbody>\n",
       "    <tr>\n",
       "      <th>Capomulin</th>\n",
       "      <td>40.675741</td>\n",
       "      <td>41.557809</td>\n",
       "      <td>24.947764</td>\n",
       "      <td>4.994774</td>\n",
       "      <td>0.329346</td>\n",
       "    </tr>\n",
       "    <tr>\n",
       "      <th>Ceftamin</th>\n",
       "      <td>52.591172</td>\n",
       "      <td>51.776157</td>\n",
       "      <td>39.290177</td>\n",
       "      <td>6.268188</td>\n",
       "      <td>0.469821</td>\n",
       "    </tr>\n",
       "    <tr>\n",
       "      <th>Infubinol</th>\n",
       "      <td>52.884795</td>\n",
       "      <td>51.820584</td>\n",
       "      <td>43.128684</td>\n",
       "      <td>6.567243</td>\n",
       "      <td>0.492236</td>\n",
       "    </tr>\n",
       "    <tr>\n",
       "      <th>Ketapril</th>\n",
       "      <td>55.235638</td>\n",
       "      <td>53.698743</td>\n",
       "      <td>68.553577</td>\n",
       "      <td>8.279709</td>\n",
       "      <td>0.603860</td>\n",
       "    </tr>\n",
       "    <tr>\n",
       "      <th>Naftisol</th>\n",
       "      <td>54.331565</td>\n",
       "      <td>52.509285</td>\n",
       "      <td>66.173479</td>\n",
       "      <td>8.134708</td>\n",
       "      <td>0.596466</td>\n",
       "    </tr>\n",
       "    <tr>\n",
       "      <th>Placebo</th>\n",
       "      <td>54.033581</td>\n",
       "      <td>52.288934</td>\n",
       "      <td>61.168083</td>\n",
       "      <td>7.821003</td>\n",
       "      <td>0.581331</td>\n",
       "    </tr>\n",
       "    <tr>\n",
       "      <th>Propriva</th>\n",
       "      <td>52.322552</td>\n",
       "      <td>50.854632</td>\n",
       "      <td>42.351070</td>\n",
       "      <td>6.507770</td>\n",
       "      <td>0.512884</td>\n",
       "    </tr>\n",
       "    <tr>\n",
       "      <th>Ramicane</th>\n",
       "      <td>40.216745</td>\n",
       "      <td>40.673236</td>\n",
       "      <td>23.486704</td>\n",
       "      <td>4.846308</td>\n",
       "      <td>0.320955</td>\n",
       "    </tr>\n",
       "    <tr>\n",
       "      <th>Stelasyn</th>\n",
       "      <td>54.233149</td>\n",
       "      <td>52.431737</td>\n",
       "      <td>59.450562</td>\n",
       "      <td>7.710419</td>\n",
       "      <td>0.573111</td>\n",
       "    </tr>\n",
       "    <tr>\n",
       "      <th>Zoniferol</th>\n",
       "      <td>53.236507</td>\n",
       "      <td>51.818479</td>\n",
       "      <td>48.533355</td>\n",
       "      <td>6.966589</td>\n",
       "      <td>0.516398</td>\n",
       "    </tr>\n",
       "  </tbody>\n",
       "</table>\n",
       "</div>"
      ],
      "text/plain": [
       "                   Mean     Median   Variance  Standard Deviation  \\\n",
       "Drug Regimen                                                        \n",
       "Capomulin     40.675741  41.557809  24.947764            4.994774   \n",
       "Ceftamin      52.591172  51.776157  39.290177            6.268188   \n",
       "Infubinol     52.884795  51.820584  43.128684            6.567243   \n",
       "Ketapril      55.235638  53.698743  68.553577            8.279709   \n",
       "Naftisol      54.331565  52.509285  66.173479            8.134708   \n",
       "Placebo       54.033581  52.288934  61.168083            7.821003   \n",
       "Propriva      52.322552  50.854632  42.351070            6.507770   \n",
       "Ramicane      40.216745  40.673236  23.486704            4.846308   \n",
       "Stelasyn      54.233149  52.431737  59.450562            7.710419   \n",
       "Zoniferol     53.236507  51.818479  48.533355            6.966589   \n",
       "\n",
       "              Standard Error  \n",
       "Drug Regimen                  \n",
       "Capomulin           0.329346  \n",
       "Ceftamin            0.469821  \n",
       "Infubinol           0.492236  \n",
       "Ketapril            0.603860  \n",
       "Naftisol            0.596466  \n",
       "Placebo             0.581331  \n",
       "Propriva            0.512884  \n",
       "Ramicane            0.320955  \n",
       "Stelasyn            0.573111  \n",
       "Zoniferol           0.516398  "
      ]
     },
     "execution_count": 6,
     "metadata": {},
     "output_type": "execute_result"
    }
   ],
   "source": [
    "#calculate total, mean, median, variance, stdev, st error for summary stats table\n",
    "grouped_drug_regimen = merged_mouse_study.groupby([\"Drug Regimen\"])\n",
    "#calculate mean tumor volumes across drug regimens\n",
    "grouped_drug_regimen_mean = grouped_drug_regimen[\"Tumor Volume (mm3)\"].mean()\n",
    "grouped_drug_regimen_mean\n",
    "#calculate median tumor volumes\n",
    "grouped_drug_regimen_median= grouped_drug_regimen[\"Tumor Volume (mm3)\"].median()\n",
    "grouped_drug_regimen_median\n",
    "#calculate variance in tumor volumes across drug regimens\n",
    "grouped_drug_regimen_var= grouped_drug_regimen[\"Tumor Volume (mm3)\"].var()\n",
    "grouped_drug_regimen_var\n",
    "#calculate stdev in tumor volumes across drug regimens\n",
    "grouped_drug_regimen_std= grouped_drug_regimen[\"Tumor Volume (mm3)\"].std()\n",
    "grouped_drug_regimen_std\n",
    "#calculate standard error in tumor volumes across drug regimens\n",
    "grouped_drug_regimen_sem= grouped_drug_regimen[\"Tumor Volume (mm3)\"].sem()\n",
    "grouped_drug_regimen_sem\n",
    "#create summary table df for above calculations across drug regimens\n",
    "study_summary_stats = pd.DataFrame({\"Mean\": grouped_drug_regimen_mean, \n",
    "                                    \"Median\": grouped_drug_regimen_median, \"Variance\": grouped_drug_regimen_var, \n",
    "                                    \"Standard Deviation\": grouped_drug_regimen_std, \"Standard Error\": grouped_drug_regimen_sem})\n",
    "\n",
    "study_summary_stats"
   ]
  },
  {
   "cell_type": "code",
   "execution_count": 7,
   "metadata": {},
   "outputs": [
    {
     "data": {
      "text/plain": [
       "Drug Regimen\n",
       "Capomulin    230\n",
       "Ceftamin     178\n",
       "Infubinol    178\n",
       "Ketapril     188\n",
       "Naftisol     186\n",
       "Placebo      181\n",
       "Propriva     161\n",
       "Ramicane     228\n",
       "Stelasyn     181\n",
       "Zoniferol    182\n",
       "Name: Mouse ID, dtype: int64"
      ]
     },
     "execution_count": 7,
     "metadata": {},
     "output_type": "execute_result"
    }
   ],
   "source": [
    "#group drug regimen and mouse id to get data points for bar plots\n",
    "treatment_regimen_data = merged_mouse_study.groupby([\"Drug Regimen\"]).count()[\"Mouse ID\"]\n",
    "treatment_regimen_data"
   ]
  },
  {
   "cell_type": "markdown",
   "metadata": {},
   "source": [
    "## Bar plots"
   ]
  },
  {
   "cell_type": "code",
   "execution_count": 8,
   "metadata": {
    "scrolled": true
   },
   "outputs": [
    {
     "data": {
      "image/png": "[encoded data removed]",
      "text/plain": [
       "<Figure size 432x288 with 1 Axes>"
      ]
     },
     "metadata": {
      "needs_background": "light"
     },
     "output_type": "display_data"
    }
   ],
   "source": [
    "# Generate a bar plot showing number of data points for each treatment regimen using pandas\n",
    "treatment_regimen_data.plot(kind = \"bar\")\n",
    "#set figure labels\n",
    "plt.title(\"Number of Treatments to Drug Regimens\")\n",
    "plt.xlabel(\"Drugs\")\n",
    "plt.ylabel(\"No. of Treatments\")\n",
    "#show figrue \n",
    "plt.show()"
   ]
  },
  {
   "cell_type": "code",
   "execution_count": 9,
   "metadata": {},
   "outputs": [
    {
     "data": {
      "text/plain": [
       "Text(0, 0.5, 'No. of Treatments')"
      ]
     },
     "execution_count": 9,
     "metadata": {},
     "output_type": "execute_result"
    },
    {
     "data": {
      "image/png": "[encoded data removed]",
      "text/plain": [
       "<Figure size 432x288 with 1 Axes>"
      ]
     },
     "metadata": {
      "needs_background": "light"
     },
     "output_type": "display_data"
    }
   ],
   "source": [
    "# Generate a bar plot showing number of data points for each treatment regimen using pyplot\n",
    "number_of_treatments = [230, 178, 178, 188, 186, 181, 161, 228, 181, 182]\n",
    "#set figure axis and tick locations\n",
    "x_axis = np.arange(len(treatment_regimen_data))\n",
    "tick_locations = [value for value in x_axis]\n",
    "plt.xticks(tick_locations, ['Capomulin', 'Ceftamin', 'Infubinol', \n",
    "                            'Ketapril', 'Naftisol', 'Placebo', \n",
    "                            'Propriva', 'Ramicane', 'Stelasyn', \n",
    "                            'Zoniferol'],  rotation = 'vertical')\n",
    "#set x and y data in figure\n",
    "plt.bar(x_axis, number_of_treatments, align='center')\n",
    "#set figure title and labels\n",
    "plt.title(\"Number of Treatments to Drug Regimens\")\n",
    "plt.xlabel(\"Drugs\")\n",
    "plt.ylabel(\"No. of Treatments\")"
   ]
  },
  {
   "cell_type": "markdown",
   "metadata": {},
   "source": [
    "## Pie plots"
   ]
  },
  {
   "cell_type": "code",
   "execution_count": 10,
   "metadata": {},
   "outputs": [
    {
     "data": {
      "text/html": [
       "<div>\n",
       "<style scoped>\n",
       "    .dataframe tbody tr th:only-of-type {\n",
       "        vertical-align: middle;\n",
       "    }\n",
       "\n",
       "    .dataframe tbody tr th {\n",
       "        vertical-align: top;\n",
       "    }\n",
       "\n",
       "    .dataframe thead th {\n",
       "        text-align: right;\n",
       "    }\n",
       "</style>\n",
       "<table border=\"1\" class=\"dataframe\">\n",
       "  <thead>\n",
       "    <tr style=\"text-align: right;\">\n",
       "      <th></th>\n",
       "      <th>Total Count</th>\n",
       "      <th>Percent</th>\n",
       "    </tr>\n",
       "    <tr>\n",
       "      <th>Sex</th>\n",
       "      <th></th>\n",
       "      <th></th>\n",
       "    </tr>\n",
       "  </thead>\n",
       "  <tbody>\n",
       "    <tr>\n",
       "      <th>Female</th>\n",
       "      <td>124</td>\n",
       "      <td>49.799197</td>\n",
       "    </tr>\n",
       "    <tr>\n",
       "      <th>Male</th>\n",
       "      <td>125</td>\n",
       "      <td>50.200803</td>\n",
       "    </tr>\n",
       "  </tbody>\n",
       "</table>\n",
       "</div>"
      ],
      "text/plain": [
       "        Total Count    Percent\n",
       "Sex                           \n",
       "Female          124  49.799197\n",
       "Male            125  50.200803"
      ]
     },
     "execution_count": 10,
     "metadata": {},
     "output_type": "execute_result"
    }
   ],
   "source": [
    "#group Mouse ID and sex to find number of female and male mice\n",
    "grouped_gender = merged_mouse_study.groupby([\"Mouse ID\", \"Sex\"])\n",
    "#create grouped df\n",
    "grouped_gender_df = pd.DataFrame(grouped_gender.size())\n",
    "#create df with female and male mouse counts\n",
    "gender_analysis = pd.DataFrame(grouped_gender_df.groupby([\"Sex\"]).count())\n",
    "gender_analysis.columns=[\"Total Count\"]\n",
    "gender_analysis.head()\n",
    "#calculate % for female and male mice for pie chart\n",
    "gender_analysis[\"Percent\"] =(100*(gender_analysis[\"Total Count\"]/gender_analysis[\"Total Count\"].sum()))\n",
    "gender_analysis[\"Percent\"]=gender_analysis[\"Percent\"]\n",
    "gender_analysis\n",
    "#format gender_analysis with% and 2 decimal points\n",
    "#gender_analysis.style.format({\"Percent\": '{:.2%}'})"
   ]
  },
  {
   "cell_type": "code",
   "execution_count": 11,
   "metadata": {},
   "outputs": [
    {
     "data": {
      "text/plain": [
       "<matplotlib.axes._subplots.AxesSubplot at 0x1a24905f98>"
      ]
     },
     "execution_count": 11,
     "metadata": {},
     "output_type": "execute_result"
    },
    {
     "data": {
      "image/png": "[encoded data removed]",
      "text/plain": [
       "<Figure size 432x288 with 1 Axes>"
      ]
     },
     "metadata": {},
     "output_type": "display_data"
    }
   ],
   "source": [
    "# Generate a pie plot showing the distribution of female versus male mice using pandas\n",
    "colors = [\"green\", \"yellow\"]\n",
    "explode = (0.1,0)\n",
    "gender_analysis.plot.pie(y=\"Total Count\", explode=explode, colors=colors, \n",
    "                         autopct=\"%1.1f%%\", shadow=False, startangle=120)\n",
    "                                        \n"
   ]
  },
  {
   "cell_type": "code",
   "execution_count": 12,
   "metadata": {},
   "outputs": [
    {
     "data": {
      "text/plain": [
       "([<matplotlib.patches.Wedge at 0x1a24d93ef0>,\n",
       "  <matplotlib.patches.Wedge at 0x1a24d9e6a0>],\n",
       " [Text(-1.0429948112336984, -0.5934322402259434, 'Female'),\n",
       "  Text(0.9560785769642237, 0.543979553540448, 'Male')],\n",
       " [Text(-0.608413639886324, -0.346168806798467, '49.8%'),\n",
       "  Text(0.5214974056168492, 0.2967161201129716, '50.2%')])"
      ]
     },
     "execution_count": 12,
     "metadata": {},
     "output_type": "execute_result"
    },
    {
     "data": {
      "image/png": "[encoded data removed]",
      "text/plain": [
       "<Figure size 432x288 with 1 Axes>"
      ]
     },
     "metadata": {},
     "output_type": "display_data"
    }
   ],
   "source": [
    "# Generate a pie plot showing the distribution of female versus male mice using pyplot\n",
    "#create labels for pie plot\n",
    "labels = [\"Female\", \"Male\"]\n",
    "percents = [49.799197, 50.200803]\n",
    "plt.pie(percents, explode=explode, labels =labels,\n",
    "        colors=colors, autopct=\"%1.1f%%\", shadow=False, startangle=120)"
   ]
  },
  {
   "cell_type": "code",
   "execution_count": null,
   "metadata": {},
   "outputs": [],
   "source": []
  },
  {
   "cell_type": "markdown",
   "metadata": {},
   "source": [
    "## Quartiles, outliers and boxplots"
   ]
  },
  {
   "cell_type": "code",
   "execution_count": 13,
   "metadata": {},
   "outputs": [
    {
     "data": {
      "text/html": [
       "<div>\n",
       "<style scoped>\n",
       "    .dataframe tbody tr th:only-of-type {\n",
       "        vertical-align: middle;\n",
       "    }\n",
       "\n",
       "    .dataframe tbody tr th {\n",
       "        vertical-align: top;\n",
       "    }\n",
       "\n",
       "    .dataframe thead th {\n",
       "        text-align: right;\n",
       "    }\n",
       "</style>\n",
       "<table border=\"1\" class=\"dataframe\">\n",
       "  <thead>\n",
       "    <tr style=\"text-align: right;\">\n",
       "      <th></th>\n",
       "      <th></th>\n",
       "      <th>Tumor Volume (mm3)</th>\n",
       "    </tr>\n",
       "    <tr>\n",
       "      <th>Drug Regimen</th>\n",
       "      <th>Mouse ID</th>\n",
       "      <th></th>\n",
       "    </tr>\n",
       "  </thead>\n",
       "  <tbody>\n",
       "    <tr>\n",
       "      <th rowspan=\"25\" valign=\"top\">Capomulin</th>\n",
       "      <th>b128</th>\n",
       "      <td>38.982878</td>\n",
       "    </tr>\n",
       "    <tr>\n",
       "      <th>b742</th>\n",
       "      <td>38.939633</td>\n",
       "    </tr>\n",
       "    <tr>\n",
       "      <th>f966</th>\n",
       "      <td>30.485985</td>\n",
       "    </tr>\n",
       "    <tr>\n",
       "      <th>g288</th>\n",
       "      <td>37.074024</td>\n",
       "    </tr>\n",
       "    <tr>\n",
       "      <th>g316</th>\n",
       "      <td>40.159220</td>\n",
       "    </tr>\n",
       "    <tr>\n",
       "      <th>i557</th>\n",
       "      <td>47.685963</td>\n",
       "    </tr>\n",
       "    <tr>\n",
       "      <th>i738</th>\n",
       "      <td>37.311846</td>\n",
       "    </tr>\n",
       "    <tr>\n",
       "      <th>j119</th>\n",
       "      <td>38.125164</td>\n",
       "    </tr>\n",
       "    <tr>\n",
       "      <th>j246</th>\n",
       "      <td>38.753265</td>\n",
       "    </tr>\n",
       "    <tr>\n",
       "      <th>l509</th>\n",
       "      <td>41.483008</td>\n",
       "    </tr>\n",
       "    <tr>\n",
       "      <th>l897</th>\n",
       "      <td>38.846876</td>\n",
       "    </tr>\n",
       "    <tr>\n",
       "      <th>m601</th>\n",
       "      <td>28.430964</td>\n",
       "    </tr>\n",
       "    <tr>\n",
       "      <th>m957</th>\n",
       "      <td>33.329098</td>\n",
       "    </tr>\n",
       "    <tr>\n",
       "      <th>r157</th>\n",
       "      <td>46.539206</td>\n",
       "    </tr>\n",
       "    <tr>\n",
       "      <th>r554</th>\n",
       "      <td>32.377357</td>\n",
       "    </tr>\n",
       "    <tr>\n",
       "      <th>r944</th>\n",
       "      <td>41.581521</td>\n",
       "    </tr>\n",
       "    <tr>\n",
       "      <th>s185</th>\n",
       "      <td>23.343598</td>\n",
       "    </tr>\n",
       "    <tr>\n",
       "      <th>s710</th>\n",
       "      <td>40.728578</td>\n",
       "    </tr>\n",
       "    <tr>\n",
       "      <th>t565</th>\n",
       "      <td>34.455298</td>\n",
       "    </tr>\n",
       "    <tr>\n",
       "      <th>u364</th>\n",
       "      <td>31.023923</td>\n",
       "    </tr>\n",
       "    <tr>\n",
       "      <th>v923</th>\n",
       "      <td>40.658124</td>\n",
       "    </tr>\n",
       "    <tr>\n",
       "      <th>w150</th>\n",
       "      <td>39.952347</td>\n",
       "    </tr>\n",
       "    <tr>\n",
       "      <th>w914</th>\n",
       "      <td>36.041047</td>\n",
       "    </tr>\n",
       "    <tr>\n",
       "      <th>x401</th>\n",
       "      <td>28.484033</td>\n",
       "    </tr>\n",
       "    <tr>\n",
       "      <th>y793</th>\n",
       "      <td>31.896238</td>\n",
       "    </tr>\n",
       "    <tr>\n",
       "      <th rowspan=\"5\" valign=\"top\">Ceftamin</th>\n",
       "      <th>a275</th>\n",
       "      <td>62.999356</td>\n",
       "    </tr>\n",
       "    <tr>\n",
       "      <th>b447</th>\n",
       "      <td>45.000000</td>\n",
       "    </tr>\n",
       "    <tr>\n",
       "      <th>b487</th>\n",
       "      <td>56.057749</td>\n",
       "    </tr>\n",
       "    <tr>\n",
       "      <th>b759</th>\n",
       "      <td>55.742829</td>\n",
       "    </tr>\n",
       "    <tr>\n",
       "      <th>f436</th>\n",
       "      <td>48.722078</td>\n",
       "    </tr>\n",
       "    <tr>\n",
       "      <th>...</th>\n",
       "      <th>...</th>\n",
       "      <td>...</td>\n",
       "    </tr>\n",
       "    <tr>\n",
       "      <th rowspan=\"5\" valign=\"top\">Infubinol</th>\n",
       "      <th>v766</th>\n",
       "      <td>51.542431</td>\n",
       "    </tr>\n",
       "    <tr>\n",
       "      <th>w193</th>\n",
       "      <td>50.005138</td>\n",
       "    </tr>\n",
       "    <tr>\n",
       "      <th>w584</th>\n",
       "      <td>58.268442</td>\n",
       "    </tr>\n",
       "    <tr>\n",
       "      <th>y163</th>\n",
       "      <td>67.685569</td>\n",
       "    </tr>\n",
       "    <tr>\n",
       "      <th>z581</th>\n",
       "      <td>62.754451</td>\n",
       "    </tr>\n",
       "    <tr>\n",
       "      <th rowspan=\"25\" valign=\"top\">Ramicane</th>\n",
       "      <th>a411</th>\n",
       "      <td>38.407618</td>\n",
       "    </tr>\n",
       "    <tr>\n",
       "      <th>a444</th>\n",
       "      <td>43.047543</td>\n",
       "    </tr>\n",
       "    <tr>\n",
       "      <th>a520</th>\n",
       "      <td>38.810366</td>\n",
       "    </tr>\n",
       "    <tr>\n",
       "      <th>a644</th>\n",
       "      <td>32.978522</td>\n",
       "    </tr>\n",
       "    <tr>\n",
       "      <th>c458</th>\n",
       "      <td>38.342008</td>\n",
       "    </tr>\n",
       "    <tr>\n",
       "      <th>c758</th>\n",
       "      <td>33.397653</td>\n",
       "    </tr>\n",
       "    <tr>\n",
       "      <th>d251</th>\n",
       "      <td>37.311236</td>\n",
       "    </tr>\n",
       "    <tr>\n",
       "      <th>e662</th>\n",
       "      <td>40.659006</td>\n",
       "    </tr>\n",
       "    <tr>\n",
       "      <th>g791</th>\n",
       "      <td>29.128472</td>\n",
       "    </tr>\n",
       "    <tr>\n",
       "      <th>i177</th>\n",
       "      <td>33.562402</td>\n",
       "    </tr>\n",
       "    <tr>\n",
       "      <th>i334</th>\n",
       "      <td>36.374510</td>\n",
       "    </tr>\n",
       "    <tr>\n",
       "      <th>j913</th>\n",
       "      <td>31.560470</td>\n",
       "    </tr>\n",
       "    <tr>\n",
       "      <th>j989</th>\n",
       "      <td>36.134852</td>\n",
       "    </tr>\n",
       "    <tr>\n",
       "      <th>k403</th>\n",
       "      <td>22.050126</td>\n",
       "    </tr>\n",
       "    <tr>\n",
       "      <th>m546</th>\n",
       "      <td>30.564625</td>\n",
       "    </tr>\n",
       "    <tr>\n",
       "      <th>n364</th>\n",
       "      <td>31.095335</td>\n",
       "    </tr>\n",
       "    <tr>\n",
       "      <th>q597</th>\n",
       "      <td>45.220869</td>\n",
       "    </tr>\n",
       "    <tr>\n",
       "      <th>q610</th>\n",
       "      <td>36.561652</td>\n",
       "    </tr>\n",
       "    <tr>\n",
       "      <th>r811</th>\n",
       "      <td>37.225650</td>\n",
       "    </tr>\n",
       "    <tr>\n",
       "      <th>r921</th>\n",
       "      <td>43.419381</td>\n",
       "    </tr>\n",
       "    <tr>\n",
       "      <th>s508</th>\n",
       "      <td>30.276232</td>\n",
       "    </tr>\n",
       "    <tr>\n",
       "      <th>u196</th>\n",
       "      <td>40.667713</td>\n",
       "    </tr>\n",
       "    <tr>\n",
       "      <th>w678</th>\n",
       "      <td>43.166373</td>\n",
       "    </tr>\n",
       "    <tr>\n",
       "      <th>y449</th>\n",
       "      <td>44.183451</td>\n",
       "    </tr>\n",
       "    <tr>\n",
       "      <th>z578</th>\n",
       "      <td>30.638696</td>\n",
       "    </tr>\n",
       "  </tbody>\n",
       "</table>\n",
       "<p>100 rows × 1 columns</p>\n",
       "</div>"
      ],
      "text/plain": [
       "                       Tumor Volume (mm3)\n",
       "Drug Regimen Mouse ID                    \n",
       "Capomulin    b128               38.982878\n",
       "             b742               38.939633\n",
       "             f966               30.485985\n",
       "             g288               37.074024\n",
       "             g316               40.159220\n",
       "             i557               47.685963\n",
       "             i738               37.311846\n",
       "             j119               38.125164\n",
       "             j246               38.753265\n",
       "             l509               41.483008\n",
       "             l897               38.846876\n",
       "             m601               28.430964\n",
       "             m957               33.329098\n",
       "             r157               46.539206\n",
       "             r554               32.377357\n",
       "             r944               41.581521\n",
       "             s185               23.343598\n",
       "             s710               40.728578\n",
       "             t565               34.455298\n",
       "             u364               31.023923\n",
       "             v923               40.658124\n",
       "             w150               39.952347\n",
       "             w914               36.041047\n",
       "             x401               28.484033\n",
       "             y793               31.896238\n",
       "Ceftamin     a275               62.999356\n",
       "             b447               45.000000\n",
       "             b487               56.057749\n",
       "             b759               55.742829\n",
       "             f436               48.722078\n",
       "...                                   ...\n",
       "Infubinol    v766               51.542431\n",
       "             w193               50.005138\n",
       "             w584               58.268442\n",
       "             y163               67.685569\n",
       "             z581               62.754451\n",
       "Ramicane     a411               38.407618\n",
       "             a444               43.047543\n",
       "             a520               38.810366\n",
       "             a644               32.978522\n",
       "             c458               38.342008\n",
       "             c758               33.397653\n",
       "             d251               37.311236\n",
       "             e662               40.659006\n",
       "             g791               29.128472\n",
       "             i177               33.562402\n",
       "             i334               36.374510\n",
       "             j913               31.560470\n",
       "             j989               36.134852\n",
       "             k403               22.050126\n",
       "             m546               30.564625\n",
       "             n364               31.095335\n",
       "             q597               45.220869\n",
       "             q610               36.561652\n",
       "             r811               37.225650\n",
       "             r921               43.419381\n",
       "             s508               30.276232\n",
       "             u196               40.667713\n",
       "             w678               43.166373\n",
       "             y449               44.183451\n",
       "             z578               30.638696\n",
       "\n",
       "[100 rows x 1 columns]"
      ]
     },
     "execution_count": 13,
     "metadata": {},
     "output_type": "execute_result"
    }
   ],
   "source": [
    "# Calculate the final tumor volume of each mouse across four of the most promising treatment regimens. Calculate the IQR and quantitatively determine if there are any potential outliers.\n",
    "\n",
    "# data to include \"Capomulin\", \"Ramicane\", \"Infubinol\", \"Ceftamin\" drugs to be analyzed \n",
    "drug_regimes=merged_mouse_study[merged_mouse_study[\"Drug Regimen\"].isin([\"Capomulin\", \"Ramicane\", \"Infubinol\", \"Ceftamin\"])]\n",
    "drug_regimes=drug_regimes.sort_values([\"Timepoint\"], ascending = True)\n",
    "drug_regimes\n",
    "#only to include \"Drug Regimen\", \"Mouse ID\", \"Timepoint\" and \"Tumor Volume (mm3)\"\n",
    "drug_regimes_cleaned = drug_regimes[[\"Drug Regimen\", \"Mouse ID\", \"Timepoint\" and \"Tumor Volume (mm3)\"]]\n",
    "drug_regimes_cleaned\n",
    "#group data by \"Drug Regimen\" and \"Mouse ID\" and find the last tumor vol measurement using .last\n",
    "sorted_drug_regimes = drug_regimes_cleaned.groupby([\"Drug Regimen\", \"Mouse ID\"]).last()[\"Tumor Volume (mm3)\"]\n",
    "sorted_drug_regimes.head()\n",
    "#create sorted_drug_regimes_df \n",
    "sorted_drug_regimes_df = sorted_drug_regimes.to_frame()\n",
    "sorted_drug_regimes_df"
   ]
  },
  {
   "cell_type": "code",
   "execution_count": 14,
   "metadata": {},
   "outputs": [
    {
     "data": {
      "image/png": "[encoded data removed]",
      "text/plain": [
       "<Figure size 432x288 with 1 Axes>"
      ]
     },
     "metadata": {
      "needs_background": "light"
     },
     "output_type": "display_data"
    }
   ],
   "source": [
    "# Generate a box plot of the final tumor volume of each mouse across four regimens of interest\n",
    "#create a list of four drug regimes used in study (\"Capomulin\", \"Ramicane\", \"Infubinol\", \"Ceftamin\")\n",
    "four_regimes = ['Capomulin', 'Ramicane', 'Infubinol','Ceftamin']\n",
    "boxplot_df = sorted_drug_regimes_df.reset_index()\n",
    "boxplot_list = boxplot_df.groupby('Drug Regimen')['Tumor Volume (mm3)'].apply(list)\n",
    "boxplot_list_df = pd.DataFrame(boxplot_list)\n",
    "boxplot_list_df= boxplot_list_df.reindex(four_regimes)\n",
    "final_tumor_vols = [vol for vol in boxplot_list_df['Tumor Volume (mm3)']]\n",
    "plt.boxplot(final_tumor_vols, labels=four_regimes)\n",
    "plt.ylim(10, 80)\n",
    "plt.show()\n"
   ]
  },
  {
   "cell_type": "markdown",
   "metadata": {},
   "source": [
    "## Line and scatter plots"
   ]
  },
  {
   "cell_type": "code",
   "execution_count": 23,
   "metadata": {},
   "outputs": [
    {
     "data": {
      "text/plain": [
       "Text(0, 0.5, 'Last Tumor Vol (mm3) Measurement')"
      ]
     },
     "execution_count": 23,
     "metadata": {},
     "output_type": "execute_result"
    },
    {
     "data": {
      "image/png": "[encoded data removed]",
      "text/plain": [
       "<Figure size 432x288 with 1 Axes>"
      ]
     },
     "metadata": {
      "needs_background": "light"
     },
     "output_type": "display_data"
    }
   ],
   "source": [
    "# Generate a line plot of time point versus tumor volume for a mouse treated with Capomulin\n",
    "time_to_tumor = merged_mouse_study[merged_mouse_study[\"Mouse ID\"].isin([\"s185\"])]\n",
    "time_to_tumor\n",
    "\n",
    "time_to_tumor_data = time_to_tumor[[\"Mouse ID\", \"Timepoint\", \"Tumor Volume (mm3)\"]]\n",
    "time_to_tumor_data\n",
    "\n",
    "time_to_tumor_fig = time_to_tumor_data.reset_index()\n",
    "time_to_tumor_fig\n",
    "\n",
    "time_tumor_plot = time_to_tumor_data[[\"Mouse ID\", \"Timepoint\", \"Tumor Volume (mm3)\"]]\n",
    "time_tumor_plot.plot.line()\n",
    "plt.title(\"Last Tumor Vol (mm3) Meaurement to Timepoint\")\n",
    "plt.xlabel(\"Timpeoint\")\n",
    "plt.ylabel(\"Last Tumor Vol (mm3) Measurement\")"
   ]
  },
  {
   "cell_type": "code",
   "execution_count": 60,
   "metadata": {},
   "outputs": [
    {
     "data": {
      "image/png": "[encoded data removed]",
      "text/plain": [
       "<Figure size 432x288 with 1 Axes>"
      ]
     },
     "metadata": {
      "needs_background": "light"
     },
     "output_type": "display_data"
    }
   ],
   "source": [
    "# Generate a scatter plot of mouse weight versus average tumor volume for the Capomulin regimen\n",
    "scatter_capomulin = merged_mouse_study[merged_mouse_study[\"Drug Regimen\"].isin([\"Capomulin\"])]\n",
    "capomulin_df = drug_regimes[[\"Mouse ID\",\"Weight (g)\", \"Tumor Volume (mm3)\"]]\n",
    "#sort by weight (g) and ascend true\n",
    "capomulin_sorted = scatter_capomulin.sort_values([\"Weight (g)\"], ascending=True)\n",
    "capomulin_plot = scatter_capomulin.reset_index()\n",
    "#group data by avg weight using .groupby and .mean\n",
    "capomulin_grouped = capomulin_plot.groupby(\"Weight (g)\")[\"Tumor Volume (mm3)\"].mean()\n",
    "\n",
    "#create df for scatter plot\n",
    "capomulin_grouped_df = pd.DataFrame(capomulin_grouped).reset_index()\n",
    "\n",
    "#finally create the scatter plot!\n",
    "capomulin_scatter_plot = capomulin_grouped_df.plot(kind=\"scatter\", x=\"Weight (g)\", y=\"Tumor Volume (mm3)\")\n",
    "plt.show()"
   ]
  },
  {
   "cell_type": "code",
   "execution_count": 54,
   "metadata": {},
   "outputs": [
    {
     "data": {
      "text/html": [
       "<div>\n",
       "<style scoped>\n",
       "    .dataframe tbody tr th:only-of-type {\n",
       "        vertical-align: middle;\n",
       "    }\n",
       "\n",
       "    .dataframe tbody tr th {\n",
       "        vertical-align: top;\n",
       "    }\n",
       "\n",
       "    .dataframe thead th {\n",
       "        text-align: right;\n",
       "    }\n",
       "</style>\n",
       "<table border=\"1\" class=\"dataframe\">\n",
       "  <thead>\n",
       "    <tr style=\"text-align: right;\">\n",
       "      <th></th>\n",
       "      <th>Weight (g)</th>\n",
       "      <th>Tumor Volume (mm3)</th>\n",
       "    </tr>\n",
       "  </thead>\n",
       "  <tbody>\n",
       "    <tr>\n",
       "      <th>0</th>\n",
       "      <td>15</td>\n",
       "      <td>36.182040</td>\n",
       "    </tr>\n",
       "    <tr>\n",
       "      <th>1</th>\n",
       "      <td>17</td>\n",
       "      <td>37.214133</td>\n",
       "    </tr>\n",
       "    <tr>\n",
       "      <th>2</th>\n",
       "      <td>19</td>\n",
       "      <td>41.182391</td>\n",
       "    </tr>\n",
       "    <tr>\n",
       "      <th>3</th>\n",
       "      <td>20</td>\n",
       "      <td>39.141053</td>\n",
       "    </tr>\n",
       "    <tr>\n",
       "      <th>4</th>\n",
       "      <td>21</td>\n",
       "      <td>42.088700</td>\n",
       "    </tr>\n",
       "  </tbody>\n",
       "</table>\n",
       "</div>"
      ],
      "text/plain": [
       "   Weight (g)  Tumor Volume (mm3)\n",
       "0          15           36.182040\n",
       "1          17           37.214133\n",
       "2          19           41.182391\n",
       "3          20           39.141053\n",
       "4          21           42.088700"
      ]
     },
     "execution_count": 54,
     "metadata": {},
     "output_type": "execute_result"
    }
   ],
   "source": [
    "#capomulin_grouped.head()\n",
    "#capomulin_grouped_df.head()"
   ]
  },
  {
   "cell_type": "code",
   "execution_count": 79,
   "metadata": {
    "scrolled": false
   },
   "outputs": [
    {
     "data": {
      "text/plain": [
       "<matplotlib.axes._subplots.AxesSubplot at 0x1a2bc85128>"
      ]
     },
     "execution_count": 79,
     "metadata": {},
     "output_type": "execute_result"
    },
    {
     "data": {
      "image/png": "[encoded data removed]",
      "text/plain": [
       "<Figure size 432x288 with 2 Axes>"
      ]
     },
     "metadata": {
      "needs_background": "light"
     },
     "output_type": "display_data"
    }
   ],
   "source": [
    "# Calculate the correlation coefficient \n",
    "sns.heatmap(capomulin_grouped_df.corr(), annot=True)\n"
   ]
  },
  {
   "cell_type": "code",
   "execution_count": 81,
   "metadata": {},
   "outputs": [
    {
     "name": "stdout",
     "output_type": "stream",
     "text": [
      "The correlation between both factors is 0.95\n"
     ]
    }
   ],
   "source": [
    "weight=capomulin_grouped_df.iloc[:,0]\n",
    "tumor_vol=capomulin_grouped_df.iloc[:,1]\n",
    "correlation = st.pearsonr(weight,tumor_vol)\n",
    "print(f\"The correlation between both factors is {round(correlation[0],2)}\")"
   ]
  },
  {
   "cell_type": "code",
   "execution_count": 84,
   "metadata": {},
   "outputs": [
    {
     "data": {
      "image/png": "[encoded data removed]",
      "text/plain": [
       "<Figure size 432x288 with 1 Axes>"
      ]
     },
     "metadata": {
      "needs_background": "light"
     },
     "output_type": "display_data"
    }
   ],
   "source": [
    "#Calculate linear regression model for mouse weight and average tumor volume for the Capomulin regimen\n",
    "x_values = capomulin_grouped_df[\"Weight (g)\"]\n",
    "y_values = capomulin_grouped_df[\"Tumor Volume (mm3)\"]\n",
    "(slope, intercept, rvalue, pvalue, stderr) = linregress(x_values, y_values)\n",
    "regress_values = x_values * slope + intercept\n",
    "line_eq = \"y = \" + str(round(slope,2)) + \"x + \" + str(round(intercept,2))\n",
    "plt.scatter(x_values,y_values)\n",
    "plt.plot(x_values,regress_values,\"r-\")\n",
    "plt.annotate(line_eq,(15,0),fontsize=15,color=\"red\")\n",
    "plt.title(\"Weight (g) to Avg Tumor Vol (mm3)\")\n",
    "plt.xlabel(\"Weight (g)\")\n",
    "plt.ylabel(\"Avg Tumor Vol (mm3)\")\n",
    "plt.show()\n",
    "\n"
   ]
  },
  {
   "cell_type": "code",
   "execution_count": null,
   "metadata": {},
   "outputs": [],
   "source": []
  }
 ],
 "metadata": {
  "anaconda-cloud": {},
  "kernelspec": {
   "display_name": "Python 3",
   "language": "python",
   "name": "python3"
  },
  "language_info": {
   "codemirror_mode": {
    "name": "ipython",
    "version": 3
   },
   "file_extension": ".py",
   "mimetype": "text/x-python",
   "name": "python",
   "nbconvert_exporter": "python",
   "pygments_lexer": "ipython3",
   "version": "3.7.1"
  }
 },
 "nbformat": 4,
 "nbformat_minor": 2
}
